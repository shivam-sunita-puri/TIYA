{
  "nbformat": 4,
  "nbformat_minor": 0,
  "metadata": {
    "colab": {
      "provenance": [],
      "authorship_tag": "ABX9TyMAsx1FDoj2OvcAyy0ZTNV4",
      "include_colab_link": true
    },
    "kernelspec": {
      "name": "python3",
      "display_name": "Python 3"
    },
    "language_info": {
      "name": "python"
    }
  },
  "cells": [
    {
      "cell_type": "markdown",
      "metadata": {
        "id": "view-in-github",
        "colab_type": "text"
      },
      "source": [
        "<a href=\"https://colab.research.google.com/github/shivam-sunita-puri/TIYA/blob/main/Fitbit_download_data.ipynb\" target=\"_parent\"><img src=\"https://colab.research.google.com/assets/colab-badge.svg\" alt=\"Open In Colab\"/></a>"
      ]
    },
    {
      "cell_type": "code",
      "execution_count": 12,
      "metadata": {
        "colab": {
          "base_uri": "https://localhost:8080/"
        },
        "id": "6L2HkjpNMWB9",
        "outputId": "a6eb0f75-71b7-490d-935a-e5af443dcf5c"
      },
      "outputs": [
        {
          "output_type": "stream",
          "name": "stdout",
          "text": [
            "Visit this URL to authorize: https://www.fitbit.com/oauth2/authorize?response_type=code&client_id=23PQP9&redirect_uri=https://brainhack-aus.github.io/global2024/&scope=activity%20sleep%20heartrate\n"
          ]
        }
      ],
      "source": [
        "import requests\n",
        "\n",
        "client_id = '23PQP9'\n",
        "client_secret = '4e6963757b523332bf8207294bb209f2'\n",
        "redirect_uri = 'https://brainhack-aus.github.io/global2024/'\n",
        "\n",
        "# Step 1: Direct user to authorize URL\n",
        "authorization_url = f\"https://www.fitbit.com/oauth2/authorize?response_type=code&client_id={client_id}&redirect_uri={redirect_uri}&scope=activity%20sleep%20heartrate\"\n",
        "print(\"Visit this URL to authorize:\", authorization_url)\n",
        "\n",
        "# Step 2: Get access token after authorization\n",
        "# Once the user grants access, you will get a code in the redirect URI. Use it to obtain the token.\n"
      ]
    },
    {
      "cell_type": "code",
      "source": [
        "# Substitute XXX below with code received\n",
        "code = 'XXX'\n",
        "\n",
        "# Token endpoint for Fitbit\n",
        "token_url = \"https://api.fitbit.com/oauth2/token\"\n",
        "\n",
        "# Set up the payload for requesting tokens\n",
        "payload = {\n",
        "    'client_id': client_id,\n",
        "    'grant_type': 'authorization_code',\n",
        "    'redirect_uri': redirect_uri,\n",
        "    'code': code\n",
        "}\n",
        "\n",
        "# HTTPBasicAuth\n",
        "\n",
        "# Send the POST request to exchange the authorization code for tokens\n",
        "response = requests.post(token_url, data=payload, auth=(client_id, client_secret))\n",
        "\n",
        "# Check if the request was successful\n",
        "if response.status_code == 200:\n",
        "    tokens = response.json()\n",
        "    access_token = tokens['access_token']\n",
        "    refresh_token = tokens['refresh_token']\n",
        "    print(\"Access Token:\", access_token)\n",
        "    print(\"Refresh Token:\", refresh_token)\n",
        "else:\n",
        "    print(\"Failed to obtain tokens:\", response.status_code, response.text)"
      ],
      "metadata": {
        "id": "Po3VLVzvPhKD"
      },
      "execution_count": null,
      "outputs": []
    }
  ]
}