{
  "nbformat": 4,
  "nbformat_minor": 0,
  "metadata": {
    "colab": {
      "provenance": [],
      "authorship_tag": "ABX9TyM5JCtdAMF6rFTqITG+MXXp",
      "include_colab_link": true
    },
    "kernelspec": {
      "name": "python3",
      "display_name": "Python 3"
    },
    "language_info": {
      "name": "python"
    }
  },
  "cells": [
    {
      "cell_type": "markdown",
      "metadata": {
        "id": "view-in-github",
        "colab_type": "text"
      },
      "source": [
        "<a href=\"https://colab.research.google.com/github/shivam-sunita-puri/TIYA/blob/main/Fitbit_download_data.ipynb\" target=\"_parent\"><img src=\"https://colab.research.google.com/assets/colab-badge.svg\" alt=\"Open In Colab\"/></a>"
      ]
    },
    {
      "cell_type": "code",
      "execution_count": 12,
      "metadata": {
        "colab": {
          "base_uri": "https://localhost:8080/"
        },
        "id": "6L2HkjpNMWB9",
        "outputId": "a6eb0f75-71b7-490d-935a-e5af443dcf5c"
      },
      "outputs": [
        {
          "output_type": "stream",
          "name": "stdout",
          "text": [
            "Visit this URL to authorize: https://www.fitbit.com/oauth2/authorize?response_type=code&client_id=23PQP9&redirect_uri=https://brainhack-aus.github.io/global2024/&scope=activity%20sleep%20heartrate\n"
          ]
        }
      ],
      "source": [
        "import requests\n",
        "import pprint\n",
        "\n",
        "client_id = '23PQP9'\n",
        "client_secret = '4e6963757b523332bf8207294bb209f2'\n",
        "redirect_uri = 'https://brainhack-aus.github.io/global2024/'\n",
        "\n",
        "# Step 1: Direct user to authorize URL\n",
        "authorization_url = f\"https://www.fitbit.com/oauth2/authorize?response_type=code&client_id={client_id}&redirect_uri={redirect_uri}&scope=activity%20sleep%20heartrate\"\n",
        "print(\"Visit this URL to authorize:\", authorization_url)\n",
        "\n",
        "# Step 2: Get access token after authorization\n",
        "# Once the user grants access, you will get a code in the redirect URI. Use it to obtain the token.\n"
      ]
    },
    {
      "cell_type": "code",
      "source": [
        "# Substitute XXX below with code received\n",
        "code = 'XXX'\n",
        "\n",
        "# Token endpoint for Fitbit\n",
        "token_url = \"https://api.fitbit.com/oauth2/token\"\n",
        "\n",
        "# Set up the payload for requesting tokens\n",
        "payload = {\n",
        "    'client_id': client_id,\n",
        "    'grant_type': 'authorization_code',\n",
        "    'redirect_uri': redirect_uri,\n",
        "    'code': code\n",
        "}\n",
        "\n",
        "## HTTPBasicAuth\n",
        "\n",
        "# Send the POST request to exchange the authorization code for tokens\n",
        "response = requests.post(token_url, data=payload, auth=(client_id, client_secret))\n",
        "\n",
        "# Check if the request was successful\n",
        "if response.status_code == 200:\n",
        "    tokens = response.json()\n",
        "    access_token = tokens['access_token']\n",
        "    refresh_token = tokens['refresh_token']\n",
        "    print(\"Access Token:\", access_token)\n",
        "    print(\"Refresh Token:\", refresh_token)\n",
        "else:\n",
        "    print(\"Failed to obtain tokens:\", response.status_code, response.text)"
      ],
      "metadata": {
        "id": "Po3VLVzvPhKD"
      },
      "execution_count": null,
      "outputs": []
    },
    {
      "cell_type": "code",
      "source": [
        "# Substitute YYY below with token received\n",
        "access_token='YYY'\n",
        "\n",
        "headers = {'Authorization': f'Bearer {access_token}'}\n",
        "\n",
        "url = \"https://api.fitbit.com/1/user/-/activities/heart/date/today/1d/1sec.json\"  # Replace date as needed\n",
        "\n",
        "#url = \"https://api.fitbit.com/1/user/-/activities/heart/date/2024-11-04/2024-11-04/1min/time/10:00/10:30.json\"\n",
        "\n",
        "#url = \"https://api.fitbit.com/1/user/-/activities/heart/date/2024-11-04/2024-11-04/15min.json\"\n",
        "\n",
        "\n",
        "response = requests.get(url, headers=headers)\n",
        "data = response.json()\n",
        "\n",
        "pprint.pprint(data)\n"
      ],
      "metadata": {
        "id": "GlV-fZ_WijrQ"
      },
      "execution_count": null,
      "outputs": []
    },
    {
      "cell_type": "code",
      "source": [
        "print(data['activities-heart-intraday']['dataset'])"
      ],
      "metadata": {
        "id": "AxMTz8GBtd7A"
      },
      "execution_count": null,
      "outputs": []
    },
    {
      "cell_type": "markdown",
      "source": [],
      "metadata": {
        "id": "_JKrMwIyyN2P"
      }
    },
    {
      "cell_type": "code",
      "source": [
        "import csv\n",
        "\n",
        "# Specify the file name\n",
        "filename = \"heart_rate_data.csv\"\n",
        "\n",
        "# Writing to CSV file\n",
        "with open(filename, mode='w', newline='') as file:\n",
        "    writer = csv.DictWriter(file, fieldnames=[\"time\", \"value\"])\n",
        "\n",
        "    # Write the header\n",
        "    writer.writeheader()\n",
        "\n",
        "    # Write the data\n",
        "    writer.writerows(data['activities-heart-intraday']['dataset'])\n",
        "\n",
        "print(f\"Data saved to {filename}\")\n"
      ],
      "metadata": {
        "colab": {
          "base_uri": "https://localhost:8080/"
        },
        "id": "pLPjMN0PxwGK",
        "outputId": "5f0e1d87-1ef6-48b5-d579-6fb9f596ea7e"
      },
      "execution_count": 73,
      "outputs": [
        {
          "output_type": "stream",
          "name": "stdout",
          "text": [
            "Data saved to heart_rate_data.csv\n"
          ]
        }
      ]
    },
    {
      "cell_type": "code",
      "source": [
        "import pandas as pd\n",
        "import matplotlib.pyplot as plt\n",
        "from datetime import datetime\n",
        "\n",
        "# Convert the data into a DataFrame\n",
        "df = pd.DataFrame(data['activities-heart-intraday']['dataset'])\n",
        "\n",
        "# Set the datetime column as the index\n",
        "df.set_index('time', inplace=True)\n",
        "\n",
        "# Plotting the time series\n",
        "plt.figure(figsize=(10, 5))\n",
        "plt.plot(df.index, df['value'], marker='o', linestyle='-', color='b')\n",
        "plt.title('Heart Rate Time Series')\n",
        "plt.xlabel('Time')\n",
        "plt.ylabel('Heart Rate (bpm)')\n",
        "plt.xticks(rotation=45)  # Rotate x-axis labels for better readability\n",
        "plt.grid()\n",
        "plt.tight_layout()  # Adjust the layout to prevent clipping of ylabel\n",
        "plt.show()\n"
      ],
      "metadata": {
        "id": "hiKFhZq_y5aw"
      },
      "execution_count": null,
      "outputs": []
    },
    {
      "cell_type": "code",
      "source": [],
      "metadata": {
        "id": "0ZzePUoZ0GBr"
      },
      "execution_count": null,
      "outputs": []
    }
  ]
}