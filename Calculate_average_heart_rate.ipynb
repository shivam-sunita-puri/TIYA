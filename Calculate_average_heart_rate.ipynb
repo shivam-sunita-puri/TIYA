{
  "nbformat": 4,
  "nbformat_minor": 0,
  "metadata": {
    "colab": {
      "provenance": [],
      "authorship_tag": "ABX9TyPaG4ByP00eXVrYEDUyTumm",
      "include_colab_link": true
    },
    "kernelspec": {
      "name": "python3",
      "display_name": "Python 3"
    },
    "language_info": {
      "name": "python"
    }
  },
  "cells": [
    {
      "cell_type": "markdown",
      "metadata": {
        "id": "view-in-github",
        "colab_type": "text"
      },
      "source": [
        "<a href=\"https://colab.research.google.com/github/shivam-sunita-puri/TIYA/blob/main/Calculate_average_heart_rate.ipynb\" target=\"_parent\"><img src=\"https://colab.research.google.com/assets/colab-badge.svg\" alt=\"Open In Colab\"/></a>"
      ]
    },
    {
      "cell_type": "code",
      "execution_count": 39,
      "metadata": {
        "colab": {
          "base_uri": "https://localhost:8080/"
        },
        "id": "NfgRB33v_2vk",
        "outputId": "d001f61d-56f7-469e-f7a0-83e8e21af3cc"
      },
      "outputs": [
        {
          "output_type": "stream",
          "name": "stdout",
          "text": [
            "Tue Nov  5 12:29:17 PM AEDT 2024\n"
          ]
        }
      ],
      "source": [
        "########################################################\n",
        "# Calculate average heart rate for the period specified\n",
        "########################################################\n",
        "\n",
        "# Substitute YYY below with token received\n",
        "access_token='YYY'\n",
        "\n",
        "# Change date below to correct date\n",
        "url = \"https://api.fitbit.com/1/user/-/activities/heart/date/2024-11-05/1d/1sec.json\"  # Replace date as needed\n",
        "\n",
        "# Call the function below with start_time and end_time given as strings in HH:MM:SS format (24 hours notation)\n",
        "\n",
        "# If all the data in the time window is already on the FitBit website, the function returns the avergae heart rate in the time window\n",
        "\n",
        "# If some of the data still weren't uploaded to FitBit website (data is uploaded every 15-20 minutes), there will be an error message and the function will be returning -99\n",
        "\n",
        "# import packages\n",
        "import pprint\n",
        "import requests\n",
        "import time\n",
        "from datetime import datetime, timedelta\n",
        "import pandas as pd\n",
        "\n",
        "# set correct timezone\n",
        "!rm /etc/localtime\n",
        "!ln -s /usr/share/zoneinfo/Australia/Melbourne /etc/localtime\n",
        "!date\n",
        "\n",
        "def calculate_average_heart_rate(start_time, end_time):\n",
        "  headers = {'Authorization': f'Bearer {access_token}'}\n",
        "\n",
        "  response = requests.get(url, headers=headers)\n",
        "  data = response.json()\n",
        "\n",
        "  if response.status_code == 200:\n",
        "    #  pprint.pprint(data['activities-heart-intraday']['dataset'][-1:])\n",
        "    df = pd.DataFrame(data['activities-heart-intraday']['dataset'])\n",
        "\n",
        "    # Parse the dates into datetime objects\n",
        "    time_format = \"%H:%M:%S\"  # Specify the format matching YY:MM:DD\n",
        "    df['parsed_time']=[datetime.strptime(time_string,time_format) for time_string in df['time']]\n",
        "\n",
        "    parsed_start_time = datetime.strptime(start_time, time_format)\n",
        "    parsed_end_time = datetime.strptime(end_time, time_format)\n",
        "\n",
        "    # Compare the dates\n",
        "    if parsed_start_time < df['parsed_time'][0]:\n",
        "        print(f\"start time {parsed_start_time} is earlier than the time stamp of the first data sample {df['parsed_time'].iloc[0]}\")\n",
        "        return -99\n",
        "    elif parsed_end_time > df['parsed_time'].iloc[-1]:\n",
        "        print(f\"end time {parsed_end_time} is later than the time stamp of the last data sample {df['parsed_time'].iloc[-1]}\")\n",
        "        return -99\n",
        "\n",
        "\n",
        "    times = [row['time'] for index, row in df.iterrows() if row['parsed_time'] >= parsed_start_time and row['parsed_time'] <= parsed_end_time]\n",
        "    print(f\"DEBUG INFORMATION: {len(times)} time stamps averaged:\")\n",
        "    print(f\"DEBUG INFORMATION: {times}\")\n",
        "\n",
        "    values_to_average = [row['value'] for index, row in df.iterrows() if row['parsed_time'] >= parsed_start_time and row['parsed_time'] <= parsed_end_time]\n",
        "    print(f\"DEBUG INFORMATION: {values_to_average}\")\n",
        "\n",
        "    return sum(values_to_average) / len(values_to_average)\n",
        "\n",
        "  else:\n",
        "    pprint.pprint(data)\n",
        "\n",
        "def last_X_minutes_available(minutes):\n",
        "  headers = {'Authorization': f'Bearer {access_token}'}\n",
        "\n",
        "  response = requests.get(url, headers=headers)\n",
        "  data = response.json()\n",
        "\n",
        "  if response.status_code == 200:\n",
        "    #  pprint.pprint(data['activities-heart-intraday']['dataset'][-1:])\n",
        "    df = pd.DataFrame(data['activities-heart-intraday']['dataset'])\n",
        "\n",
        "    # Parse the dates into datetime objectsd\n",
        "    time_format = \"%H:%M:%S\"  # Specify the format matching YY:MM:DD\n",
        "    df['parsed_time']=[datetime.strptime(time_string,time_format) for time_string in df['time']]\n",
        "\n",
        "    last_sample_time = df['time'].iloc[-1]\n",
        "\n",
        "    X_minutes_before_parsed_time = df['parsed_time'].iloc[-1] - timedelta(minutes=minutes)\n",
        "\n",
        "    first_sample_parsed_time = next((time_parsed for time_parsed in df['parsed_time'] if time_parsed >= X_minutes_before_parsed_time), None)\n",
        "\n",
        "    first_sample_time = first_sample_parsed_time.strftime(\"%H:%M:%S\")\n",
        "\n",
        "    return first_sample_time, last_sample_time\n",
        "\n",
        "  else:\n",
        "    pprint.pprint(data)"
      ]
    },
    {
      "cell_type": "code",
      "source": [
        "# Example usage - calculate average in certain time range\n",
        "\n",
        "rate = calculate_average_heart_rate('09:50:00','09:51:00')\n",
        "\n",
        "print(rate)"
      ],
      "metadata": {
        "id": "hPJ7DOeyEeP7",
        "colab": {
          "base_uri": "https://localhost:8080/"
        },
        "outputId": "5fcfcfdb-7e96-4c1f-ef92-88adc63c7992"
      },
      "execution_count": 25,
      "outputs": [
        {
          "output_type": "stream",
          "name": "stdout",
          "text": [
            "13 time stamps averaged:\n",
            "['09:50:00', '09:50:05', '09:50:10', '09:50:15', '09:50:20', '09:50:25', '09:50:30', '09:50:35', '09:50:40', '09:50:45', '09:50:50', '09:50:55', '09:51:00']\n",
            "[125, 125, 126, 124, 122, 122, 118, 118, 121, 123, 120, 115, 110]\n",
            "120.6923076923077\n"
          ]
        }
      ]
    },
    {
      "cell_type": "code",
      "source": [
        "# Example usage - every minute, calculate the average in the last 5 minutes of available data\n",
        "\n",
        "minutes = 5\n",
        "\n",
        "while True:\n",
        "  first_sample_time, last_sample_time = last_X_minutes_available(5)\n",
        "  print(f\"Last available time stamp: {last_sample_time}\")\n",
        "  print(f\"Time stamp {minutes} minutes beforehand: {first_sample_time}\")\n",
        "  rate = calculate_average_heart_rate(first_sample_time,last_sample_time)\n",
        "  print(f\"Average heart rate in this period: {rate}\")\n",
        "  print(\"\")\n",
        "  time.sleep(60)"
      ],
      "metadata": {
        "colab": {
          "base_uri": "https://localhost:8080/",
          "height": 1000
        },
        "id": "fXA6Tif2lOCb",
        "outputId": "b8b5cfab-923c-4aff-80bd-9bfd45befe73"
      },
      "execution_count": 43,
      "outputs": [
        {
          "output_type": "stream",
          "name": "stdout",
          "text": [
            "Last available time stamp: 12:23:33\n",
            "Time stamp 5 minutes beforehand: 12:18:33\n",
            "DEBUG INFORMATION: 37 time stamps averaged:\n",
            "DEBUG INFORMATION: ['12:18:33', '12:18:38', '12:18:43', '12:18:53', '12:19:03', '12:19:13', '12:19:18', '12:19:23', '12:19:33', '12:19:38', '12:19:43', '12:19:58', '12:20:08', '12:20:13', '12:20:18', '12:20:23', '12:20:28', '12:20:43', '12:20:48', '12:20:58', '12:21:03', '12:21:08', '12:21:23', '12:21:38', '12:21:43', '12:21:48', '12:21:58', '12:22:08', '12:22:13', '12:22:23', '12:22:33', '12:22:43', '12:22:58', '12:23:13', '12:23:23', '12:23:28', '12:23:33']\n",
            "DEBUG INFORMATION: [86, 87, 88, 89, 88, 87, 87, 84, 85, 84, 83, 84, 82, 83, 82, 81, 82, 83, 84, 87, 89, 89, 87, 88, 90, 91, 89, 88, 89, 87, 88, 89, 90, 88, 89, 90, 90]\n",
            "Average heart rate in this period: 86.67567567567568\n",
            "\n",
            "Last available time stamp: 12:23:33\n",
            "Time stamp 5 minutes beforehand: 12:18:33\n",
            "DEBUG INFORMATION: 37 time stamps averaged:\n",
            "DEBUG INFORMATION: ['12:18:33', '12:18:38', '12:18:43', '12:18:53', '12:19:03', '12:19:13', '12:19:18', '12:19:23', '12:19:33', '12:19:38', '12:19:43', '12:19:58', '12:20:08', '12:20:13', '12:20:18', '12:20:23', '12:20:28', '12:20:43', '12:20:48', '12:20:58', '12:21:03', '12:21:08', '12:21:23', '12:21:38', '12:21:43', '12:21:48', '12:21:58', '12:22:08', '12:22:13', '12:22:23', '12:22:33', '12:22:43', '12:22:58', '12:23:13', '12:23:23', '12:23:28', '12:23:33']\n",
            "DEBUG INFORMATION: [86, 87, 88, 89, 88, 87, 87, 84, 85, 84, 83, 84, 82, 83, 82, 81, 82, 83, 84, 87, 89, 89, 87, 88, 90, 91, 89, 88, 89, 87, 88, 89, 90, 88, 89, 90, 90]\n",
            "Average heart rate in this period: 86.67567567567568\n",
            "\n",
            "Last available time stamp: 12:23:33\n",
            "Time stamp 5 minutes beforehand: 12:18:33\n",
            "DEBUG INFORMATION: 37 time stamps averaged:\n",
            "DEBUG INFORMATION: ['12:18:33', '12:18:38', '12:18:43', '12:18:53', '12:19:03', '12:19:13', '12:19:18', '12:19:23', '12:19:33', '12:19:38', '12:19:43', '12:19:58', '12:20:08', '12:20:13', '12:20:18', '12:20:23', '12:20:28', '12:20:43', '12:20:48', '12:20:58', '12:21:03', '12:21:08', '12:21:23', '12:21:38', '12:21:43', '12:21:48', '12:21:58', '12:22:08', '12:22:13', '12:22:23', '12:22:33', '12:22:43', '12:22:58', '12:23:13', '12:23:23', '12:23:28', '12:23:33']\n",
            "DEBUG INFORMATION: [86, 87, 88, 89, 88, 87, 87, 84, 85, 84, 83, 84, 82, 83, 82, 81, 82, 83, 84, 87, 89, 89, 87, 88, 90, 91, 89, 88, 89, 87, 88, 89, 90, 88, 89, 90, 90]\n",
            "Average heart rate in this period: 86.67567567567568\n",
            "\n",
            "Last available time stamp: 12:23:33\n",
            "Time stamp 5 minutes beforehand: 12:18:33\n",
            "DEBUG INFORMATION: 37 time stamps averaged:\n",
            "DEBUG INFORMATION: ['12:18:33', '12:18:38', '12:18:43', '12:18:53', '12:19:03', '12:19:13', '12:19:18', '12:19:23', '12:19:33', '12:19:38', '12:19:43', '12:19:58', '12:20:08', '12:20:13', '12:20:18', '12:20:23', '12:20:28', '12:20:43', '12:20:48', '12:20:58', '12:21:03', '12:21:08', '12:21:23', '12:21:38', '12:21:43', '12:21:48', '12:21:58', '12:22:08', '12:22:13', '12:22:23', '12:22:33', '12:22:43', '12:22:58', '12:23:13', '12:23:23', '12:23:28', '12:23:33']\n",
            "DEBUG INFORMATION: [86, 87, 88, 89, 88, 87, 87, 84, 85, 84, 83, 84, 82, 83, 82, 81, 82, 83, 84, 87, 89, 89, 87, 88, 90, 91, 89, 88, 89, 87, 88, 89, 90, 88, 89, 90, 90]\n",
            "Average heart rate in this period: 86.67567567567568\n",
            "\n",
            "Last available time stamp: 12:23:33\n",
            "Time stamp 5 minutes beforehand: 12:18:33\n",
            "DEBUG INFORMATION: 37 time stamps averaged:\n",
            "DEBUG INFORMATION: ['12:18:33', '12:18:38', '12:18:43', '12:18:53', '12:19:03', '12:19:13', '12:19:18', '12:19:23', '12:19:33', '12:19:38', '12:19:43', '12:19:58', '12:20:08', '12:20:13', '12:20:18', '12:20:23', '12:20:28', '12:20:43', '12:20:48', '12:20:58', '12:21:03', '12:21:08', '12:21:23', '12:21:38', '12:21:43', '12:21:48', '12:21:58', '12:22:08', '12:22:13', '12:22:23', '12:22:33', '12:22:43', '12:22:58', '12:23:13', '12:23:23', '12:23:28', '12:23:33']\n",
            "DEBUG INFORMATION: [86, 87, 88, 89, 88, 87, 87, 84, 85, 84, 83, 84, 82, 83, 82, 81, 82, 83, 84, 87, 89, 89, 87, 88, 90, 91, 89, 88, 89, 87, 88, 89, 90, 88, 89, 90, 90]\n",
            "Average heart rate in this period: 86.67567567567568\n",
            "\n",
            "Last available time stamp: 12:23:33\n",
            "Time stamp 5 minutes beforehand: 12:18:33\n",
            "DEBUG INFORMATION: 37 time stamps averaged:\n",
            "DEBUG INFORMATION: ['12:18:33', '12:18:38', '12:18:43', '12:18:53', '12:19:03', '12:19:13', '12:19:18', '12:19:23', '12:19:33', '12:19:38', '12:19:43', '12:19:58', '12:20:08', '12:20:13', '12:20:18', '12:20:23', '12:20:28', '12:20:43', '12:20:48', '12:20:58', '12:21:03', '12:21:08', '12:21:23', '12:21:38', '12:21:43', '12:21:48', '12:21:58', '12:22:08', '12:22:13', '12:22:23', '12:22:33', '12:22:43', '12:22:58', '12:23:13', '12:23:23', '12:23:28', '12:23:33']\n",
            "DEBUG INFORMATION: [86, 87, 88, 89, 88, 87, 87, 84, 85, 84, 83, 84, 82, 83, 82, 81, 82, 83, 84, 87, 89, 89, 87, 88, 90, 91, 89, 88, 89, 87, 88, 89, 90, 88, 89, 90, 90]\n",
            "Average heart rate in this period: 86.67567567567568\n",
            "\n",
            "Last available time stamp: 12:23:33\n",
            "Time stamp 5 minutes beforehand: 12:18:33\n",
            "DEBUG INFORMATION: 37 time stamps averaged:\n",
            "DEBUG INFORMATION: ['12:18:33', '12:18:38', '12:18:43', '12:18:53', '12:19:03', '12:19:13', '12:19:18', '12:19:23', '12:19:33', '12:19:38', '12:19:43', '12:19:58', '12:20:08', '12:20:13', '12:20:18', '12:20:23', '12:20:28', '12:20:43', '12:20:48', '12:20:58', '12:21:03', '12:21:08', '12:21:23', '12:21:38', '12:21:43', '12:21:48', '12:21:58', '12:22:08', '12:22:13', '12:22:23', '12:22:33', '12:22:43', '12:22:58', '12:23:13', '12:23:23', '12:23:28', '12:23:33']\n",
            "DEBUG INFORMATION: [86, 87, 88, 89, 88, 87, 87, 84, 85, 84, 83, 84, 82, 83, 82, 81, 82, 83, 84, 87, 89, 89, 87, 88, 90, 91, 89, 88, 89, 87, 88, 89, 90, 88, 89, 90, 90]\n",
            "Average heart rate in this period: 86.67567567567568\n",
            "\n",
            "Last available time stamp: 12:23:33\n",
            "Time stamp 5 minutes beforehand: 12:18:33\n",
            "DEBUG INFORMATION: 37 time stamps averaged:\n",
            "DEBUG INFORMATION: ['12:18:33', '12:18:38', '12:18:43', '12:18:53', '12:19:03', '12:19:13', '12:19:18', '12:19:23', '12:19:33', '12:19:38', '12:19:43', '12:19:58', '12:20:08', '12:20:13', '12:20:18', '12:20:23', '12:20:28', '12:20:43', '12:20:48', '12:20:58', '12:21:03', '12:21:08', '12:21:23', '12:21:38', '12:21:43', '12:21:48', '12:21:58', '12:22:08', '12:22:13', '12:22:23', '12:22:33', '12:22:43', '12:22:58', '12:23:13', '12:23:23', '12:23:28', '12:23:33']\n",
            "DEBUG INFORMATION: [86, 87, 88, 89, 88, 87, 87, 84, 85, 84, 83, 84, 82, 83, 82, 81, 82, 83, 84, 87, 89, 89, 87, 88, 90, 91, 89, 88, 89, 87, 88, 89, 90, 88, 89, 90, 90]\n",
            "Average heart rate in this period: 86.67567567567568\n",
            "\n",
            "Last available time stamp: 12:23:33\n",
            "Time stamp 5 minutes beforehand: 12:18:33\n",
            "DEBUG INFORMATION: 37 time stamps averaged:\n",
            "DEBUG INFORMATION: ['12:18:33', '12:18:38', '12:18:43', '12:18:53', '12:19:03', '12:19:13', '12:19:18', '12:19:23', '12:19:33', '12:19:38', '12:19:43', '12:19:58', '12:20:08', '12:20:13', '12:20:18', '12:20:23', '12:20:28', '12:20:43', '12:20:48', '12:20:58', '12:21:03', '12:21:08', '12:21:23', '12:21:38', '12:21:43', '12:21:48', '12:21:58', '12:22:08', '12:22:13', '12:22:23', '12:22:33', '12:22:43', '12:22:58', '12:23:13', '12:23:23', '12:23:28', '12:23:33']\n",
            "DEBUG INFORMATION: [86, 87, 88, 89, 88, 87, 87, 84, 85, 84, 83, 84, 82, 83, 82, 81, 82, 83, 84, 87, 89, 89, 87, 88, 90, 91, 89, 88, 89, 87, 88, 89, 90, 88, 89, 90, 90]\n",
            "Average heart rate in this period: 86.67567567567568\n",
            "\n",
            "Last available time stamp: 12:23:33\n",
            "Time stamp 5 minutes beforehand: 12:18:33\n",
            "DEBUG INFORMATION: 37 time stamps averaged:\n",
            "DEBUG INFORMATION: ['12:18:33', '12:18:38', '12:18:43', '12:18:53', '12:19:03', '12:19:13', '12:19:18', '12:19:23', '12:19:33', '12:19:38', '12:19:43', '12:19:58', '12:20:08', '12:20:13', '12:20:18', '12:20:23', '12:20:28', '12:20:43', '12:20:48', '12:20:58', '12:21:03', '12:21:08', '12:21:23', '12:21:38', '12:21:43', '12:21:48', '12:21:58', '12:22:08', '12:22:13', '12:22:23', '12:22:33', '12:22:43', '12:22:58', '12:23:13', '12:23:23', '12:23:28', '12:23:33']\n",
            "DEBUG INFORMATION: [86, 87, 88, 89, 88, 87, 87, 84, 85, 84, 83, 84, 82, 83, 82, 81, 82, 83, 84, 87, 89, 89, 87, 88, 90, 91, 89, 88, 89, 87, 88, 89, 90, 88, 89, 90, 90]\n",
            "Average heart rate in this period: 86.67567567567568\n",
            "\n",
            "Last available time stamp: 12:38:49\n",
            "Time stamp 5 minutes beforehand: 12:33:49\n",
            "DEBUG INFORMATION: 32 time stamps averaged:\n",
            "DEBUG INFORMATION: ['12:33:49', '12:34:04', '12:34:14', '12:34:19', '12:34:24', '12:34:29', '12:34:39', '12:34:44', '12:34:49', '12:34:59', '12:35:04', '12:35:09', '12:35:14', '12:35:29', '12:35:34', '12:35:49', '12:36:04', '12:36:19', '12:36:34', '12:36:39', '12:36:54', '12:37:09', '12:37:14', '12:37:29', '12:37:34', '12:37:44', '12:37:49', '12:37:59', '12:38:14', '12:38:29', '12:38:44', '12:38:49']\n",
            "DEBUG INFORMATION: [89, 90, 89, 90, 89, 88, 87, 88, 89, 90, 93, 90, 86, 86, 85, 85, 85, 86, 87, 88, 88, 88, 87, 87, 86, 85, 85, 84, 84, 83, 80, 79]\n",
            "Average heart rate in this period: 86.75\n",
            "\n",
            "Last available time stamp: 12:38:49\n",
            "Time stamp 5 minutes beforehand: 12:33:49\n",
            "DEBUG INFORMATION: 32 time stamps averaged:\n",
            "DEBUG INFORMATION: ['12:33:49', '12:34:04', '12:34:14', '12:34:19', '12:34:24', '12:34:29', '12:34:39', '12:34:44', '12:34:49', '12:34:59', '12:35:04', '12:35:09', '12:35:14', '12:35:29', '12:35:34', '12:35:49', '12:36:04', '12:36:19', '12:36:34', '12:36:39', '12:36:54', '12:37:09', '12:37:14', '12:37:29', '12:37:34', '12:37:44', '12:37:49', '12:37:59', '12:38:14', '12:38:29', '12:38:44', '12:38:49']\n",
            "DEBUG INFORMATION: [89, 90, 89, 90, 89, 88, 87, 88, 89, 90, 93, 90, 86, 86, 85, 85, 85, 86, 87, 88, 88, 88, 87, 87, 86, 85, 85, 84, 84, 83, 80, 79]\n",
            "Average heart rate in this period: 86.75\n",
            "\n"
          ]
        },
        {
          "output_type": "error",
          "ename": "KeyboardInterrupt",
          "evalue": "",
          "traceback": [
            "\u001b[0;31m---------------------------------------------------------------------------\u001b[0m",
            "\u001b[0;31mKeyboardInterrupt\u001b[0m                         Traceback (most recent call last)",
            "\u001b[0;32m<ipython-input-43-6888ac4f1b12>\u001b[0m in \u001b[0;36m<cell line: 5>\u001b[0;34m()\u001b[0m\n\u001b[1;32m     10\u001b[0m   \u001b[0mprint\u001b[0m\u001b[0;34m(\u001b[0m\u001b[0;34mf\"Average heart rate in this period: {rate}\"\u001b[0m\u001b[0;34m)\u001b[0m\u001b[0;34m\u001b[0m\u001b[0;34m\u001b[0m\u001b[0m\n\u001b[1;32m     11\u001b[0m   \u001b[0mprint\u001b[0m\u001b[0;34m(\u001b[0m\u001b[0;34m\"\"\u001b[0m\u001b[0;34m)\u001b[0m\u001b[0;34m\u001b[0m\u001b[0;34m\u001b[0m\u001b[0m\n\u001b[0;32m---> 12\u001b[0;31m   \u001b[0mtime\u001b[0m\u001b[0;34m.\u001b[0m\u001b[0msleep\u001b[0m\u001b[0;34m(\u001b[0m\u001b[0;36m60\u001b[0m\u001b[0;34m)\u001b[0m\u001b[0;34m\u001b[0m\u001b[0;34m\u001b[0m\u001b[0m\n\u001b[0m",
            "\u001b[0;31mKeyboardInterrupt\u001b[0m: "
          ]
        }
      ]
    },
    {
      "cell_type": "code",
      "source": [
        "first_sample_time"
      ],
      "metadata": {
        "colab": {
          "base_uri": "https://localhost:8080/",
          "height": 35
        },
        "id": "8q6l-zRt3FAL",
        "outputId": "7d3e28d8-31d2-4058-f9a1-791062ac69b8"
      },
      "execution_count": 33,
      "outputs": [
        {
          "output_type": "execute_result",
          "data": {
            "text/plain": [
              "'12:06:04'"
            ],
            "application/vnd.google.colaboratory.intrinsic+json": {
              "type": "string"
            }
          },
          "metadata": {},
          "execution_count": 33
        }
      ]
    },
    {
      "cell_type": "code",
      "source": [
        "last_sample_time"
      ],
      "metadata": {
        "colab": {
          "base_uri": "https://localhost:8080/",
          "height": 35
        },
        "id": "wRgWYDR63k3l",
        "outputId": "13afbea0-bb62-49e8-c68f-1aca240d5e9a"
      },
      "execution_count": 34,
      "outputs": [
        {
          "output_type": "execute_result",
          "data": {
            "text/plain": [
              "'12:09:04'"
            ],
            "application/vnd.google.colaboratory.intrinsic+json": {
              "type": "string"
            }
          },
          "metadata": {},
          "execution_count": 34
        }
      ]
    },
    {
      "cell_type": "code",
      "source": [
        "rate = calculate_average_heart_rate(*last_X_minutes_available(3))\n",
        "\n",
        "print(rate)"
      ],
      "metadata": {
        "colab": {
          "base_uri": "https://localhost:8080/"
        },
        "id": "h1APm6lf4XlM",
        "outputId": "925b29d4-b4fd-4642-ac23-e97e058a671a"
      },
      "execution_count": 35,
      "outputs": [
        {
          "output_type": "stream",
          "name": "stdout",
          "text": [
            "23 time stamps averaged:\n",
            "['12:06:04', '12:06:14', '12:06:19', '12:06:24', '12:06:29', '12:06:34', '12:06:44', '12:06:49', '12:06:54', '12:06:59', '12:07:04', '12:07:19', '12:07:24', '12:07:29', '12:07:44', '12:07:49', '12:08:04', '12:08:19', '12:08:24', '12:08:39', '12:08:54', '12:08:59', '12:09:04']\n",
            "[73, 71, 72, 71, 72, 71, 74, 75, 73, 71, 70, 70, 72, 77, 75, 71, 71, 71, 72, 72, 71, 70, 69]\n",
            "71.91304347826087\n"
          ]
        }
      ]
    },
    {
      "cell_type": "code",
      "source": [],
      "metadata": {
        "id": "gjzR3YDD6AQY"
      },
      "execution_count": null,
      "outputs": []
    }
  ]
}