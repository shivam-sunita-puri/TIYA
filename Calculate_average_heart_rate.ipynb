{
  "nbformat": 4,
  "nbformat_minor": 0,
  "metadata": {
    "colab": {
      "provenance": [],
      "include_colab_link": true
    },
    "kernelspec": {
      "name": "python3",
      "display_name": "Python 3"
    },
    "language_info": {
      "name": "python"
    }
  },
  "cells": [
    {
      "cell_type": "markdown",
      "metadata": {
        "id": "view-in-github",
        "colab_type": "text"
      },
      "source": [
        "<a href=\"https://colab.research.google.com/github/shivam-sunita-puri/TIYA/blob/main/Calculate_average_heart_rate.ipynb\" target=\"_parent\"><img src=\"https://colab.research.google.com/assets/colab-badge.svg\" alt=\"Open In Colab\"/></a>"
      ]
    },
    {
      "cell_type": "code",
      "execution_count": 1,
      "metadata": {
        "colab": {
          "base_uri": "https://localhost:8080/"
        },
        "id": "NfgRB33v_2vk",
        "outputId": "65d26b2c-6bb8-4f96-d4de-ef1d1dff7059"
      },
      "outputs": [
        {
          "output_type": "stream",
          "name": "stdout",
          "text": [
            "Tue Nov  5 02:28:45 PM AEDT 2024\n"
          ]
        }
      ],
      "source": [
        "########################################################\n",
        "# Commands that must be run before using the functions\n",
        "########################################################\n",
        "\n",
        "# Substitute YYY below with token received\n",
        "access_token='YYY'\n",
        "\n",
        "# Change date below to correct date\n",
        "url = \"https://api.fitbit.com/1/user/-/activities/heart/date/2024-11-05/1d/1sec.json\"  # Replace date as needed\n",
        "\n",
        "# import packages\n",
        "import pprint\n",
        "import requests\n",
        "import time\n",
        "from datetime import datetime, timedelta\n",
        "import pandas as pd\n",
        "\n",
        "# set correct timezone\n",
        "!rm /etc/localtime\n",
        "!ln -s /usr/share/zoneinfo/Australia/Melbourne /etc/localtime\n",
        "!date\n",
        "\n",
        "########################################################\n",
        "#\n",
        "# calculate_average_heart_rate(start_time, end_time)\n",
        "# ==================================================\n",
        "#\n",
        "# GOAL:\n",
        "#\n",
        "# - Calculate average heart rate for the period specified\n",
        "#\n",
        "# USAGE:\n",
        "#\n",
        "# - Call the function below with start_time and end_time given as strings in HH:MM:SS format (24 hours notation)\n",
        "#\n",
        "# - If all the data in the time window is already on the FitBit website, the function returns the avergae heart rate in the time window\n",
        "#\n",
        "# - If some of the data still weren't uploaded to FitBit website (data is uploaded every 15-20 minutes), there will be an error message and the function will be returning -99\n",
        "#\n",
        "###########################################################\n",
        "def calculate_average_heart_rate(start_time, end_time):\n",
        "  headers = {'Authorization': f'Bearer {access_token}'}\n",
        "\n",
        "  response = requests.get(url, headers=headers)\n",
        "  data = response.json()\n",
        "\n",
        "  if response.status_code == 200:\n",
        "    #  pprint.pprint(data['activities-heart-intraday']['dataset'][-1:])\n",
        "    df = pd.DataFrame(data['activities-heart-intraday']['dataset'])\n",
        "\n",
        "    # Parse the dates into datetime objects\n",
        "    time_format = \"%H:%M:%S\"  # Specify the format matching YY:MM:DD\n",
        "    df['parsed_time']=[datetime.strptime(time_string,time_format) for time_string in df['time']]\n",
        "\n",
        "    parsed_start_time = datetime.strptime(start_time, time_format)\n",
        "    parsed_end_time = datetime.strptime(end_time, time_format)\n",
        "\n",
        "    # Compare the dates\n",
        "    if parsed_start_time < df['parsed_time'][0]:\n",
        "        print(f\"start time {parsed_start_time} is earlier than the time stamp of the first data sample {df['parsed_time'].iloc[0]}\")\n",
        "        return -99\n",
        "    elif parsed_end_time > df['parsed_time'].iloc[-1]:\n",
        "        print(f\"end time {parsed_end_time} is later than the time stamp of the last data sample {df['parsed_time'].iloc[-1]}\")\n",
        "        return -99\n",
        "\n",
        "\n",
        "    times = [row['time'] for index, row in df.iterrows() if row['parsed_time'] >= parsed_start_time and row['parsed_time'] <= parsed_end_time]\n",
        "    print(f\"DEBUG INFORMATION: {len(times)} time stamps averaged:\")\n",
        "    print(f\"DEBUG INFORMATION: {times}\")\n",
        "\n",
        "    values_to_average = [row['value'] for index, row in df.iterrows() if row['parsed_time'] >= parsed_start_time and row['parsed_time'] <= parsed_end_time]\n",
        "    print(f\"DEBUG INFORMATION: {values_to_average}\")\n",
        "\n",
        "    return sum(values_to_average) / len(values_to_average)\n",
        "\n",
        "  else:\n",
        "    pprint.pprint(data)\n",
        "\n",
        "########################################################\n",
        "#\n",
        "# average_heart_rate, first_sample_time, last_sample_time = average_last_X_minutes_available(minutes)\n",
        "# =================================================================\n",
        "#\n",
        "# GOAL:\n",
        "#\n",
        "# - Get the average heart rate in the last X minutes available\n",
        "#\n",
        "# USAGE:\n",
        "#\n",
        "# - Call the function below with the duration of the period required in minutes\n",
        "#\n",
        "# - It is recommended to monitor last_sample_time to see if the data is up-to-date or not\n",
        "#\n",
        "###########################################################\n",
        "\n",
        "def average_last_X_minutes_available(minutes):\n",
        "  headers = {'Authorization': f'Bearer {access_token}'}\n",
        "\n",
        "  response = requests.get(url, headers=headers)\n",
        "  data = response.json()\n",
        "\n",
        "  if response.status_code == 200:\n",
        "\n",
        "    #  pprint.pprint(data['activities-heart-intraday']['dataset'][-1:])\n",
        "    df = pd.DataFrame(data['activities-heart-intraday']['dataset'])\n",
        "\n",
        "    # Parse the dates into datetime objectsd\n",
        "    time_format = \"%H:%M:%S\"  # Specify the format matching YY:MM:DD\n",
        "    df['parsed_time']=[datetime.strptime(time_string,time_format) for time_string in df['time']]\n",
        "\n",
        "    last_sample_time = df['time'].iloc[-1]\n",
        "\n",
        "    X_minutes_before_parsed_time = df['parsed_time'].iloc[-1] - timedelta(minutes=minutes)\n",
        "\n",
        "    first_sample_parsed_time = next((time_parsed for time_parsed in df['parsed_time'] if time_parsed >= X_minutes_before_parsed_time), None)\n",
        "\n",
        "    first_sample_time = first_sample_parsed_time.strftime(\"%H:%M:%S\")\n",
        "\n",
        "    return calculate_average_heart_rate(first_sample_time, last_sample_time), first_sample_time, last_sample_time\n",
        "\n",
        "  else:\n",
        "    pprint.pprint(data)"
      ]
    },
    {
      "cell_type": "code",
      "source": [
        "# Example usage - calculate average in certain time range\n",
        "\n",
        "rate = calculate_average_heart_rate('09:50:00','09:51:00')\n",
        "\n",
        "print(rate)"
      ],
      "metadata": {
        "id": "hPJ7DOeyEeP7",
        "colab": {
          "base_uri": "https://localhost:8080/"
        },
        "outputId": "1cd9a0f3-c1d7-4d10-fd76-ac0ef94c1b5b"
      },
      "execution_count": 2,
      "outputs": [
        {
          "output_type": "stream",
          "name": "stdout",
          "text": [
            "{'errors': [{'errorType': 'invalid_token',\n",
            "             'message': 'Access token invalid: YYY. Visit '\n",
            "                        'https://dev.fitbit.com/docs/oauth2 for more '\n",
            "                        'information on the Fitbit Web API authorization '\n",
            "                        'process.'}],\n",
            " 'success': False}\n",
            "None\n"
          ]
        }
      ]
    },
    {
      "cell_type": "code",
      "source": [
        "# Example usage - every minute, calculate the average in the last 5 minutes of available data\n",
        "\n",
        "minutes = 5\n",
        "\n",
        "while True:\n",
        "  average_heart_rate, first_sample_time, last_sample_time = average_last_X_minutes_available(minutes)\n",
        "  print(f\"Last available time stamp: {last_sample_time}\")\n",
        "  print(f\"Time stamp {minutes} minutes beforehand: {first_sample_time}\")\n",
        "  print(f\"Average heart rate in this period: {average_heart_rate}\")\n",
        "  print(\"\")\n",
        "  time.sleep(60)"
      ],
      "metadata": {
        "colab": {
          "base_uri": "https://localhost:8080/",
          "height": 318
        },
        "id": "gjzR3YDD6AQY",
        "outputId": "201ca5e1-b923-441b-b104-d5a3f0ece406"
      },
      "execution_count": null,
      "outputs": [
        {
          "output_type": "stream",
          "name": "stdout",
          "text": [
            "DEBUG INFORMATION: 46 time stamps averaged:\n",
            "DEBUG INFORMATION: ['13:22:30', '13:22:40', '13:22:45', '13:22:50', '13:23:00', '13:23:05', '13:23:10', '13:23:20', '13:23:25', '13:23:30', '13:23:35', '13:23:40', '13:23:45', '13:23:55', '13:24:00', '13:24:10', '13:24:15', '13:24:20', '13:24:25', '13:24:30', '13:24:40', '13:24:45', '13:24:55', '13:25:00', '13:25:05', '13:25:10', '13:25:15', '13:25:20', '13:25:25', '13:25:30', '13:25:40', '13:25:45', '13:25:50', '13:26:00', '13:26:10', '13:26:15', '13:26:20', '13:26:25', '13:26:35', '13:26:40', '13:26:45', '13:26:50', '13:26:55', '13:27:05', '13:27:20', '13:27:25']\n",
            "DEBUG INFORMATION: [93, 94, 96, 94, 97, 99, 93, 96, 95, 94, 92, 88, 87, 91, 94, 96, 94, 92, 96, 95, 94, 91, 90, 89, 90, 94, 97, 96, 92, 88, 89, 90, 93, 100, 101, 96, 94, 95, 94, 93, 92, 90, 88, 87, 87, 89]\n",
            "Last available time stamp: 13:27:25\n",
            "Time stamp 5 minutes beforehand: 13:22:30\n",
            "Average heart rate in this period: 92.93478260869566\n",
            "\n"
          ]
        },
        {
          "output_type": "error",
          "ename": "KeyboardInterrupt",
          "evalue": "",
          "traceback": [
            "\u001b[0;31m---------------------------------------------------------------------------\u001b[0m",
            "\u001b[0;31mKeyboardInterrupt\u001b[0m                         Traceback (most recent call last)",
            "\u001b[0;32m<ipython-input-64-5293ec9448de>\u001b[0m in \u001b[0;36m<cell line: 5>\u001b[0;34m()\u001b[0m\n\u001b[1;32m      9\u001b[0m   \u001b[0mprint\u001b[0m\u001b[0;34m(\u001b[0m\u001b[0;34mf\"Average heart rate in this period: {average_heart_rate}\"\u001b[0m\u001b[0;34m)\u001b[0m\u001b[0;34m\u001b[0m\u001b[0;34m\u001b[0m\u001b[0m\n\u001b[1;32m     10\u001b[0m   \u001b[0mprint\u001b[0m\u001b[0;34m(\u001b[0m\u001b[0;34m\"\"\u001b[0m\u001b[0;34m)\u001b[0m\u001b[0;34m\u001b[0m\u001b[0;34m\u001b[0m\u001b[0m\n\u001b[0;32m---> 11\u001b[0;31m   \u001b[0mtime\u001b[0m\u001b[0;34m.\u001b[0m\u001b[0msleep\u001b[0m\u001b[0;34m(\u001b[0m\u001b[0;36m60\u001b[0m\u001b[0;34m)\u001b[0m\u001b[0;34m\u001b[0m\u001b[0;34m\u001b[0m\u001b[0m\n\u001b[0m",
            "\u001b[0;31mKeyboardInterrupt\u001b[0m: "
          ]
        }
      ]
    },
    {
      "cell_type": "code",
      "source": [],
      "metadata": {
        "id": "xhvoyjesMkkL"
      },
      "execution_count": null,
      "outputs": []
    }
  ]
}
