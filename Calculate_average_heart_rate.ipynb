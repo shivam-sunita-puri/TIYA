{
  "nbformat": 4,
  "nbformat_minor": 0,
  "metadata": {
    "colab": {
      "provenance": [],
      "authorship_tag": "ABX9TyOAGCktBxNg9UHOQ+gGe9Im",
      "include_colab_link": true
    },
    "kernelspec": {
      "name": "python3",
      "display_name": "Python 3"
    },
    "language_info": {
      "name": "python"
    }
  },
  "cells": [
    {
      "cell_type": "markdown",
      "metadata": {
        "id": "view-in-github",
        "colab_type": "text"
      },
      "source": [
        "<a href=\"https://colab.research.google.com/github/shivam-sunita-puri/TIYA/blob/main/Calculate_average_heart_rate.ipynb\" target=\"_parent\"><img src=\"https://colab.research.google.com/assets/colab-badge.svg\" alt=\"Open In Colab\"/></a>"
      ]
    },
    {
      "cell_type": "code",
      "execution_count": 3,
      "metadata": {
        "colab": {
          "base_uri": "https://localhost:8080/"
        },
        "id": "NfgRB33v_2vk",
        "outputId": "13259566-8f38-4980-f442-dac552847fc1"
      },
      "outputs": [
        {
          "output_type": "stream",
          "name": "stdout",
          "text": [
            "Tue Nov  5 03:34:00 AM AEDT 2024\n"
          ]
        }
      ],
      "source": [
        "########################################################\n",
        "# Calculate average heart rate for the period specified\n",
        "########################################################\n",
        "\n",
        "# Substitute YYY below with token received\n",
        "access_token='YYY'\n",
        "\n",
        "# Change date below to correct date\n",
        "url = \"https://api.fitbit.com/1/user/-/activities/heart/date/2024-11-05/1d/1sec.json\"  # Replace date as needed\n",
        "\n",
        "# Call the function below with start_time and end_time given as strings in HH:MM:SS format (24 hours notation)\n",
        "\n",
        "# If all the data in the time window is already on the FitBit website, the function returns the avergae heart rate in the time window\n",
        "\n",
        "# If some of the data still weren't uploaded to FitBit website (data is uploaded every 15-20 minutes), there will be an error message and the function will be returning -99\n",
        "\n",
        "# import packages\n",
        "import pprint\n",
        "import requests\n",
        "import time\n",
        "from datetime import datetime\n",
        "import pandas as pd\n",
        "\n",
        "# set correct timezone\n",
        "!rm /etc/localtime\n",
        "!ln -s /usr/share/zoneinfo/Australia/Melbourne /etc/localtime\n",
        "!date\n",
        "\n",
        "def calculate_average_heart_rate(start_time, end_time):\n",
        "  headers = {'Authorization': f'Bearer {access_token}'}\n",
        "\n",
        "  response = requests.get(url, headers=headers)\n",
        "  data = response.json()\n",
        "\n",
        "  if response.status_code == 200:\n",
        "    #  pprint.pprint(data['activities-heart-intraday']['dataset'][-1:])\n",
        "    df = pd.DataFrame(data['activities-heart-intraday']['dataset'])\n",
        "\n",
        "    # Parse the dates into datetime objects\n",
        "    time_format = \"%H:%M:%S\"  # Specify the format matching YY:MM:DD\n",
        "    df['parsed_time']=[datetime.strptime(time_string,time_format) for time_string in df['time']]\n",
        "\n",
        "    parsed_start_time = datetime.strptime(start_time, time_format)\n",
        "    parsed_end_time = datetime.strptime(end_time, time_format)\n",
        "\n",
        "    # Compare the dates\n",
        "    if parsed_start_time < df['parsed_time'][0]:\n",
        "        print(f\"start time {parsed_start_time} is earlier than the time stamp of the first data sample {df['parsed_time'].iloc[0]}\")\n",
        "        return -99\n",
        "    elif parsed_end_time > df['parsed_time'].iloc[-1]:\n",
        "        print(f\"end time {parsed_end_time} is later than the time stamp of the last data sample {df['parsed_time'].iloc[-1]}\")\n",
        "        return -99\n",
        "\n",
        "\n",
        "    times = [row['time'] for index, row in df.iterrows() if row['parsed_time'] > parsed_start_time and row['parsed_time'] < parsed_end_time]\n",
        "    print(f\"{len(times)} time stamps averaged:\")\n",
        "    print(times)\n",
        "\n",
        "    values_to_average = [row['value'] for index, row in df.iterrows() if row['parsed_time'] > parsed_start_time and row['parsed_time'] < parsed_end_time]\n",
        "    print(values_to_average)\n",
        "\n",
        "    return sum(values_to_average) / len(values_to_average)\n",
        "\n",
        "  else:\n",
        "    pprint.pprint(data)\n",
        "\n"
      ]
    },
    {
      "cell_type": "code",
      "source": [
        "# Example usage\n",
        "\n",
        "rate = calculate_average_heart_rate('09:50:00','09:51:00')\n",
        "\n",
        "print(rate)"
      ],
      "metadata": {
        "id": "hPJ7DOeyEeP7"
      },
      "execution_count": null,
      "outputs": []
    },
    {
      "cell_type": "code",
      "source": [],
      "metadata": {
        "id": "YuHwa2fsuYnS"
      },
      "execution_count": 2,
      "outputs": []
    }
  ]
}