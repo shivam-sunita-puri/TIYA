{
  "nbformat": 4,
  "nbformat_minor": 0,
  "metadata": {
    "colab": {
      "provenance": [],
      "authorship_tag": "ABX9TyOp4B2Ml3MSTOAntApTDoW+",
      "include_colab_link": true
    },
    "kernelspec": {
      "name": "python3",
      "display_name": "Python 3"
    },
    "language_info": {
      "name": "python"
    }
  },
  "cells": [
    {
      "cell_type": "markdown",
      "metadata": {
        "id": "view-in-github",
        "colab_type": "text"
      },
      "source": [
        "<a href=\"https://colab.research.google.com/github/shivam-sunita-puri/TIYA/blob/main/Periodic_download_from_fitbit.ipynb\" target=\"_parent\"><img src=\"https://colab.research.google.com/assets/colab-badge.svg\" alt=\"Open In Colab\"/></a>"
      ]
    },
    {
      "cell_type": "code",
      "source": [
        "########################################################################\n",
        "# Download latest data from fitbit every second and displays last entry\n",
        "########################################################################\n",
        "\n",
        "# Substitute YYY below with token received\n",
        "access_token='YYY'"
      ],
      "metadata": {
        "colab": {
          "base_uri": "https://localhost:8080/"
        },
        "id": "e4QcKf5RudGz",
        "outputId": "9a00b58e-978c-4fb5-c83c-c7c55bc67c57"
      },
      "execution_count": 9,
      "outputs": [
        {
          "output_type": "stream",
          "name": "stdout",
          "text": [
            "Mon Nov  4 09:31:34 PM AEDT 2024\n"
          ]
        }
      ]
    },
    {
      "cell_type": "code",
      "source": [
        "# set correct timezone\n",
        "!rm /etc/localtime\n",
        "!ln -s /usr/share/zoneinfo/Australia/Melbourne /etc/localtime\n",
        "!date"
      ],
      "metadata": {
        "id": "o27X-VqS5rD-"
      },
      "execution_count": null,
      "outputs": []
    },
    {
      "cell_type": "code",
      "execution_count": null,
      "metadata": {
        "id": "5jxzSElVpw_j",
        "colab": {
          "base_uri": "https://localhost:8080/"
        },
        "outputId": "787d55c7-452e-4ac7-d2cf-6f9cc1b68bfc"
      },
      "outputs": [
        {
          "output_type": "stream",
          "name": "stdout",
          "text": [
            "21:38:07\n",
            "[{'time': '21:34:34', 'value': 94}]\n",
            "21:39:07\n",
            "[{'time': '21:34:34', 'value': 94}]\n",
            "21:40:08\n",
            "[{'time': '21:34:34', 'value': 94}]\n",
            "21:41:08\n",
            "[{'time': '21:34:34', 'value': 94}]\n",
            "21:42:09\n",
            "[{'time': '21:34:34', 'value': 94}]\n",
            "21:43:09\n",
            "[{'time': '21:34:34', 'value': 94}]\n",
            "21:44:10\n",
            "[{'time': '21:34:34', 'value': 94}]\n",
            "21:45:10\n",
            "[{'time': '21:34:34', 'value': 94}]\n",
            "21:46:11\n",
            "[{'time': '21:34:34', 'value': 94}]\n",
            "21:47:11\n",
            "[{'time': '21:34:34', 'value': 94}]\n",
            "21:48:12\n",
            "[{'time': '21:34:34', 'value': 94}]\n",
            "21:49:12\n",
            "[{'time': '21:34:34', 'value': 94}]\n",
            "21:50:13\n",
            "[{'time': '21:34:34', 'value': 94}]\n",
            "21:51:13\n",
            "[{'time': '21:34:34', 'value': 94}]\n",
            "21:52:14\n",
            "[{'time': '21:34:34', 'value': 94}]\n",
            "21:53:14\n",
            "[{'time': '21:34:34', 'value': 94}]\n",
            "21:54:15\n",
            "[{'time': '21:52:21', 'value': 116}]\n",
            "21:55:16\n",
            "[{'time': '21:52:21', 'value': 116}]\n",
            "21:56:16\n",
            "[{'time': '21:52:21', 'value': 116}]\n",
            "21:57:17\n",
            "[{'time': '21:52:21', 'value': 116}]\n",
            "21:58:17\n",
            "[{'time': '21:52:21', 'value': 116}]\n",
            "21:59:18\n",
            "[{'time': '21:52:21', 'value': 116}]\n",
            "22:00:18\n",
            "[{'time': '21:52:21', 'value': 116}]\n",
            "22:01:19\n",
            "[{'time': '21:52:21', 'value': 116}]\n",
            "22:02:20\n",
            "[{'time': '21:52:21', 'value': 116}]\n",
            "22:03:20\n",
            "[{'time': '21:52:21', 'value': 116}]\n",
            "22:04:21\n",
            "[{'time': '21:52:21', 'value': 116}]\n",
            "22:05:21\n",
            "[{'time': '21:52:21', 'value': 116}]\n",
            "22:06:22\n",
            "[{'time': '21:52:21', 'value': 116}]\n",
            "22:07:22\n",
            "[{'time': '21:52:21', 'value': 116}]\n",
            "22:08:23\n",
            "[{'time': '21:52:21', 'value': 116}]\n",
            "22:09:23\n",
            "[{'time': '21:52:21', 'value': 116}]\n",
            "22:10:24\n",
            "[{'time': '22:07:43', 'value': 93}]\n",
            "22:11:24\n",
            "[{'time': '22:07:43', 'value': 93}]\n",
            "22:12:25\n",
            "[{'time': '22:07:43', 'value': 93}]\n",
            "22:13:25\n",
            "[{'time': '22:07:43', 'value': 93}]\n",
            "22:14:26\n",
            "[{'time': '22:07:43', 'value': 93}]\n",
            "22:15:26\n",
            "[{'time': '22:07:43', 'value': 93}]\n",
            "22:16:27\n",
            "[{'time': '22:07:43', 'value': 93}]\n",
            "22:17:27\n",
            "[{'time': '22:07:43', 'value': 93}]\n",
            "22:18:28\n",
            "[{'time': '22:07:43', 'value': 93}]\n",
            "22:19:29\n",
            "[{'time': '22:07:43', 'value': 93}]\n",
            "22:20:29\n",
            "[{'time': '22:07:43', 'value': 93}]\n"
          ]
        }
      ],
      "source": [
        "import pprint\n",
        "import requests\n",
        "import time\n",
        "import datetime\n",
        "\n",
        "headers = {'Authorization': f'Bearer {access_token}'}\n",
        "\n",
        "url = \"https://api.fitbit.com/1/user/-/activities/heart/date/today/1d/1sec.json\"  # Replace date as needed\n",
        "\n",
        "while True:\n",
        "\n",
        "  response = requests.get(url, headers=headers)\n",
        "  data = response.json()\n",
        "\n",
        "  # Get the current date and time\n",
        "  #     now = datetime.datetime.now()\n",
        "\n",
        "  # Create a datetime object representing the current date and time\n",
        "  # Display a message indicating what is being printed\n",
        "  #     print(\"Current date and time : \")\n",
        "\n",
        "  # Print the current date and time in a specific format\n",
        "  # Use the 'strftime' method to format the datetime object as a string with the desired format\n",
        "  #     print(now.strftime(\"%Y-%m-%d %H:%M:%S\"))\n",
        "\n",
        "  !date +%T\n",
        "  pprint.pprint(data['activities-heart-intraday']['dataset'][-1:])\n",
        "  time.sleep(60)\n",
        "\n"
      ]
    },
    {
      "cell_type": "code",
      "source": [],
      "metadata": {
        "id": "ZXpV99bnutyD"
      },
      "execution_count": null,
      "outputs": []
    }
  ]
}