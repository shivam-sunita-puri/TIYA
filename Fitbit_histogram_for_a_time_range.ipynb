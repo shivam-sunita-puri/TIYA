{
  "cells": [
    {
      "cell_type": "markdown",
      "metadata": {
        "id": "view-in-github",
        "colab_type": "text"
      },
      "source": [
        "<a href=\"https://colab.research.google.com/github/shivam-sunita-puri/TIYA/blob/main/Fitbit_histogram_for_a_time_range.ipynb\" target=\"_parent\"><img src=\"https://colab.research.google.com/assets/colab-badge.svg\" alt=\"Open In Colab\"/></a>"
      ]
    },
    {
      "cell_type": "code",
      "execution_count": null,
      "metadata": {
        "id": "K4Lv5n6CVpE1"
      },
      "outputs": [],
      "source": [
        "import requests\n",
        "import pprint\n",
        "import pandas as pd\n",
        "import matplotlib.pyplot as plt\n",
        "from datetime import datetime\n",
        "import numpy as np\n",
        "from scipy.interpolate import interp1d\n",
        "\n",
        "\n"
      ]
    },
    {
      "cell_type": "code",
      "execution_count": 33,
      "metadata": {
        "id": "RuRTGbuwVvwK"
      },
      "outputs": [],
      "source": [
        "def fitbit_histogram_for_a_time_range(start_time_in_minutes, end_time_in_minutes, access_token_for_watch, debug=False):\n",
        "\n",
        "# Substitute YYY below with token received\n",
        "  #access_token='YYY'\n",
        "\n",
        "  headers = {'Authorization': f'Bearer {access_token_for_watch}'}\n",
        "\n",
        "  #url = \"https://api.fitbit.com/1/user/-/activities/heart/date/today/1d/1sec.json\"  # Replace date as needed\n",
        "\n",
        "  url = f\"https://api.fitbit.com/1/user/-/activities/heart/date/2024-11-04/2024-11-04/1sec/time/{start_time_in_minutes}/{end_time_in_minutes}.json\"\n",
        "\n",
        "  #url = \"https://api.fitbit.com/1/user/-/activities/heart/date/2024-11-04/2024-11-04/15min.json\"\n",
        "\n",
        "\n",
        "  response = requests.get(url, headers=headers)\n",
        "  data = response.json()\n",
        "\n",
        "  # Convert the data into a DataFrame\n",
        "  df = pd.DataFrame(data['activities-heart-intraday']['dataset'])\n",
        "\n",
        "  # Set the datetime column as the index\n",
        "  df.set_index('time', inplace=True)\n",
        "\n",
        "  # Plotting the time series\n",
        "  if debug:\n",
        "    plt.figure(figsize=(10, 5))\n",
        "    plt.plot(df.index, df['value'], marker='o', linestyle='-', color='b')\n",
        "    plt.title('Heart Rate Time Series')\n",
        "    plt.xlabel('Time')\n",
        "    plt.ylabel('Heart Rate (bpm)')\n",
        "    plt.xticks(rotation=45)  # Rotate x-axis labels for better readability\n",
        "    plt.grid()\n",
        "    plt.tight_layout()  # Adjust the layout to prevent clipping of ylabel\n",
        "    plt.show()\n",
        "\n",
        "  time_format = '%H:%M:%S'\n",
        "\n",
        "  # Sample data: Replace these with your actual time and data points\n",
        "  timestamp_points = np.array([datetime.strptime(time_string,time_format).timestamp() for time_string in df.index])  # Unequally spaced time points\n",
        "  data_points = np.array(df['value'])  # Corresponding data values\n",
        "\n",
        "  # Define equally spaced time points for interpolation\n",
        "  new_time_points = np.linspace(timestamp_points.min(), timestamp_points.max(), num=100)  # Change `num` to desired resolution\n",
        "\n",
        "  # Interpolate data\n",
        "  interpolator = interp1d(timestamp_points, data_points, kind='cubic')  # 'linear' or 'cubic' for smooth interpolation\n",
        "  new_data_points = interpolator(new_time_points)\n",
        "\n",
        "  # Plot for visualization\n",
        "  if debug:\n",
        "    plt.plot(timestamp_points, data_points, 'o', label=\"Original Data\")\n",
        "    plt.plot(new_time_points, new_data_points, '.', label=\"Interpolated Data\")\n",
        "    plt.xlabel(\"Time\")\n",
        "    plt.ylabel(\"Data Value\")\n",
        "    plt.legend()\n",
        "    plt.show()\n",
        "\n",
        "  plt.hist(new_data_points, bins=10, edgecolor='black')  # 'bins' defines the number of bars in the histogram\n",
        "  plt.xlabel(\"Heart Rate\")\n",
        "  plt.ylabel(\"Frequency\")\n",
        "  plt.title(\"Histogram of Heart Rate\")\n",
        "  plt.show()\n"
      ]
    },
    {
      "cell_type": "code",
      "execution_count": 37,
      "metadata": {
        "colab": {
          "base_uri": "https://localhost:8080/",
          "height": 472
        },
        "id": "TH9UdakcX3SQ",
        "outputId": "f13bfdf4-9898-4e2a-8e5a-33c49c469399"
      },
      "outputs": [
        {
          "output_type": "display_data",
          "data": {
            "text/plain": [
              "<Figure size 640x480 with 1 Axes>"
            ],
            "image/png": "[encoded data removed]"
          },
          "metadata": {}
        }
      ],
      "source": [
        "fitbit_histogram_for_a_time_range('10:00', '10:04', 'YYY')"
      ]
    },
    {
      "cell_type": "code",
      "execution_count": null,
      "metadata": {
        "id": "GEl8Zm5MYCvp"
      },
      "outputs": [],
      "source": []
    }
  ],
  "metadata": {
    "colab": {
      "provenance": [],
      "authorship_tag": "ABX9TyMPUHY6uaQ6jrXTWiZY5ymb",
      "include_colab_link": true
    },
    "kernelspec": {
      "display_name": "Python 3",
      "name": "python3"
    },
    "language_info": {
      "name": "python"
    }
  },
  "nbformat": 4,
  "nbformat_minor": 0
}